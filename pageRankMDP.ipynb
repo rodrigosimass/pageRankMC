{
    "cells": [
        {
            "cell_type": "markdown",
            "metadata": {},
            "source": [
                "# Learning and Decision Making"
            ]
        },
        {
            "cell_type": "markdown",
            "metadata": {},
            "source": [
                "## Laboratory 1: PageRank\n",
                "\n",
                "### 1. The Markov chain model\n",
                "\n",
                "Consider once again the document web problem described in the Homework and for which you wrote a Markov chain model. In this lab you will interact with a larger version of the same problem. You will use a Markov chain based on a provided web of documents and investigate the relation between the PageRank algorithm and the stable behavior of the chain.\n",
                "\n",
                "Recall that your chain should describe the motion of a bot navigating the provided document web, where, upon arriving at a document, the bot will select, uniformly at random, one of the links in that document and follow that link.\n",
                "\n",
                "$$\\diamond$$"
            ]
        },
        {
            "cell_type": "markdown",
            "metadata": {},
            "source": [
                "In this first activity, you will implement your Markov chain model in Python. You will start by loading the transition probability matrix from a `numpy` binary file, using the `numpy` function `load`. You will then consider the state space to consist of all valid indices for the loaded transition matrix, each represented as a string. For example, if the transition probability matrix is $20\\times 20$, the states should include the strings `'0'` to `'19'`. \n",
                "\n",
                "---\n",
                "\n",
                "#### Activity 1.        \n",
                "\n",
                "Write a function named `load_chain` that receives, as input, a string corresponding to the name of the file with a transition matrix to be loaded, and a real number $\\gamma$ between $0$ and $1$. Assume that: \n",
                "\n",
                "* The transition matrix in the file has been built from some web of documents, where the appropriate transitions for sink nodes have already been added.\n",
                "\n",
                "* The \"teleporting\" artifact described in the course's lecture notes **has not** been added.\n",
                "\n",
                "Your function should build the transition probability matrix for the chain by adding the teleport mechanism, where the value of $\\gamma$ is the teleporting probability. Your function should then return, as output, a two-element tuple corresponding to the Markov chain, where:\n",
                "\n",
                "* ... the first element is a tuple containing the state-space; \n",
                "* ... the second element is a `numpy` array corresponding to the transition probability matrix for the chain.\n",
                "\n",
                "**Note**: Don't forget to import `numpy`.\n",
                "\n",
                "---"
            ]
        },
        {
            "cell_type": "code",
            "execution_count": 1,
            "metadata": {},
            "outputs": [
                {
                    "name": "stdout",
                    "output_type": "stream",
                    "text": [
                        "Number of states: 1883\n",
                        "Random state: 1126\n",
                        "Number of states: 11\n",
                        "Transition probabilities:\n",
                        "[[0.01  0.9   0.01  0.01  0.01  0.01  0.01  0.01  0.01  0.01  0.01 ]\n",
                        " [0.01  0.01  0.455 0.455 0.01  0.01  0.01  0.01  0.01  0.01  0.01 ]\n",
                        " [0.01  0.455 0.01  0.01  0.01  0.01  0.01  0.455 0.01  0.01  0.01 ]\n",
                        " [0.01  0.01  0.01  0.01  0.455 0.01  0.01  0.01  0.455 0.01  0.01 ]\n",
                        " [0.01  0.01  0.01  0.01  0.01  0.9   0.01  0.01  0.01  0.01  0.01 ]\n",
                        " [0.01  0.01  0.01  0.01  0.01  0.01  0.9   0.01  0.01  0.01  0.01 ]\n",
                        " [0.01  0.01  0.01  0.01  0.455 0.455 0.01  0.01  0.01  0.01  0.01 ]\n",
                        " [0.099 0.099 0.099 0.099 0.099 0.099 0.099 0.01  0.099 0.099 0.099]\n",
                        " [0.01  0.01  0.01  0.01  0.01  0.01  0.01  0.01  0.01  0.9   0.01 ]\n",
                        " [0.01  0.01  0.01  0.01  0.01  0.01  0.01  0.01  0.9   0.01  0.01 ]\n",
                        " [0.01  0.01  0.01  0.01  0.01  0.01  0.9   0.01  0.01  0.01  0.01 ]]\n"
                    ]
                }
            ],
            "source": [
                "import numpy as np\n",
                "import numpy.random as rand\n",
                "\n",
                "def load_chain(fileName,lam):\n",
                "    P = np.load(fileName)\n",
                "    \n",
                "    P *= 1-lam\n",
                "    P += lam/P.shape[0]\n",
                "\n",
                "    X = np.arange(0,P.shape[0])\n",
                "    return X,P\n",
                "\n",
                "M = load_chain('data/citations.npy', 0.11)\n",
                "\n",
                "rand.seed(42)\n",
                "\n",
                "print('Number of states:', len(M[0]))\n",
                "print('Random state:', M[0][rand.randint(len(M[0]))])\n",
                "\n",
                "M = load_chain('data/example.npy', 0.11)\n",
                "print('Number of states:', len(M[0]))\n",
                "print('Transition probabilities:')\n",
                "print(M[1])"
            ]
        },
        {
            "cell_type": "markdown",
            "metadata": {},
            "source": [
                "You can use the files `data/citations.npy` and `data/example.npy` provided to test your code:\n",
                "\n",
                "* The first corresponds to the transition probabilities for a bot that navigates a web of connected PhD students, where there is a link between from student $x$ to student $y$ if the two have collaborated in a paper together. \n",
                "\n",
                "* The second corresponds to the web of documents in the book PageRank example.\n",
                "\n",
                "In both cases, according to the previous specification, the transition probabilities for sink nodes have been corrected but no teleporting probabilities have been added.\n",
                "\n",
                "We provide below an example of application of the function with the files `data/citations.npy` and `data/example.npy`, that you can use as a first \"sanity check\" for your code.\n",
                "\n",
                "```python\n",
                "import numpy.random as rand\n",
                "\n",
                "M = load_chain('data/citations.npy', 0.11)\n",
                "\n",
                "rand.seed(42)\n",
                "\n",
                "print('Number of states:', len(M[0]))\n",
                "print('Random state:', M[0][rand.randint(len(M[0]))])\n",
                "\n",
                "M = load_chain('data/example.npy', 0.11)\n",
                "print('Number of states:', len(M[0]))\n",
                "print('Transition probabilities:')\n",
                "print(M[1])\n",
                "```\n",
                "\n",
                "Output:\n",
                "```\n",
                "Number of states: 1883\n",
                "Random state: 1126\n",
                "Number of states: 11\n",
                "Transition probabilities:\n",
                "[[0.01  0.9   0.01  0.01  0.01  0.01  0.01  0.01  0.01  0.01  0.01 ]\n",
                " [0.01  0.01  0.455 0.455 0.01  0.01  0.01  0.01  0.01  0.01  0.01 ]\n",
                " [0.01  0.455 0.01  0.01  0.01  0.01  0.01  0.455 0.01  0.01  0.01 ]\n",
                " [0.01  0.01  0.01  0.01  0.455 0.01  0.01  0.01  0.455 0.01  0.01 ]\n",
                " [0.01  0.01  0.01  0.01  0.01  0.9   0.01  0.01  0.01  0.01  0.01 ]\n",
                " [0.01  0.01  0.01  0.01  0.01  0.01  0.9   0.01  0.01  0.01  0.01 ]\n",
                " [0.01  0.01  0.01  0.01  0.455 0.455 0.01  0.01  0.01  0.01  0.01 ]\n",
                " [0.099 0.099 0.099 0.099 0.099 0.099 0.099 0.01  0.099 0.099 0.099]\n",
                " [0.01  0.01  0.01  0.01  0.01  0.01  0.01  0.01  0.01  0.9   0.01 ]\n",
                " [0.01  0.01  0.01  0.01  0.01  0.01  0.01  0.01  0.9   0.01  0.01 ]\n",
                " [0.01  0.01  0.01  0.01  0.01  0.01  0.9   0.01  0.01  0.01  0.01 ]]\n",
                " ```"
            ]
        },
        {
            "cell_type": "markdown",
            "metadata": {},
            "source": [
                "In the next activity, you will use the Markov chain model to evaluate the likelihood of any given path for the bot.\n",
                "\n",
                "---\n",
                "\n",
                "#### Activity 2.\n",
                "\n",
                "Write a function `prob_trajectory` that receives, as inputs, \n",
                "\n",
                "* ... a Markov chain in the form of a tuple like the one returned by the function in Activity 1;\n",
                "* ... a trajectory, corresponding to a sequence of states (i.e., a tuple or list of strings, each string corresponding to a state).\n",
                "\n",
                "Your function should return, as output, a floating point number corresponding to the probability of observing the provided trajectory. \n",
                "\n",
                "---"
            ]
        },
        {
            "cell_type": "code",
            "execution_count": 2,
            "metadata": {},
            "outputs": [
                {
                    "name": "stdout",
                    "output_type": "stream",
                    "text": [
                        "Prob. of trajectory (1, 3, 8): 0.20702500000000001\n",
                        "Prob. of trajectory (2, 7, 0, 1, 3): 0.0184459275\n",
                        "Prob. of trajectory (1, 2, 1): 0.20702500000000001\n",
                        "Prob. of trajectory (1, 3, 1): 0.00455\n"
                    ]
                }
            ],
            "source": [
                "def prob_trajectory(chain,traj):\n",
                "    result = 1\n",
                "    P = chain[1]\n",
                "    \n",
                "    for i in range(len(traj)-1):\n",
                "        result *= P[int(traj[i])][int(traj[i+1])]\n",
                "    \n",
                "    return result\n",
                "\n",
                "print('Prob. of trajectory (1, 3, 8):', prob_trajectory(M, ('1', '3', '8')))\n",
                "print('Prob. of trajectory (2, 7, 0, 1, 3):', prob_trajectory(M, ('2', '7', '0', '1', '3')))\n",
                "print('Prob. of trajectory (1, 2, 1):', prob_trajectory(M, ('1', '2', '1')))\n",
                "print('Prob. of trajectory (1, 3, 1):', prob_trajectory(M, ('1', '3', '1')))"
            ]
        },
        {
            "cell_type": "markdown",
            "metadata": {},
            "source": [
                "Example of application of the function with the chain $M$ from Activity 1 (example in the book).\n",
                "\n",
                "```python\n",
                "print('Prob. of trajectory (1, 3, 8):', prob_trajectory(M, ('1', '3', '8')))\n",
                "print('Prob. of trajectory (2, 7, 0, 1, 3):', prob_trajectory(M, ('2', '7', '0', '1', '3')))\n",
                "print('Prob. of trajectory (1, 2, 1):', prob_trajectory(M, ('1', '2', '1')))\n",
                "print('Prob. of trajectory (1, 3, 1):', prob_trajectory(M, ('1', '3', '1')))\n",
                "```\n",
                "\n",
                "Output:\n",
                "```\n",
                "Prob. of trajectory (1, 3, 8): 0.20702500000000001\n",
                "Prob. of trajectory (2, 7, 0, 1, 3): 0.0184459275\n",
                "Prob. of trajectory (1, 2, 1): 0.20702500000000001\n",
                "Prob. of trajectory (1, 3, 1): 0.00455\n",
                "```"
            ]
        },
        {
            "cell_type": "markdown",
            "metadata": {},
            "source": [
                "### 2. Stability"
            ]
        },
        {
            "cell_type": "markdown",
            "metadata": {},
            "source": [
                "The next activities explore the notion of *stationary distribution* for the chain, a central concept in the the PageRank algorithm.\n",
                "\n",
                "---\n",
                "\n",
                "#### Activity 3\n",
                "\n",
                "Write a function `stationary_dist` that receives, as input, a Markov chain in the form of a tuple like the one returned by the function in Activity 1. Your function should, as output, a `numpy` array corresponding to a row vector containing the stationary distribution for the chain.\n",
                "\n",
                "**Note:** The stationary distribution is a *left* eigenvector of the transition probability matrix associated to the eigenvalue 1. As such, you may find useful the numpy function `numpy.linalg.eig`. Also, recall that the stationary distribution is *a distribution*.\n",
                "\n",
                "---"
            ]
        },
        {
            "cell_type": "code",
            "execution_count": 3,
            "metadata": {
                "scrolled": true
            },
            "outputs": [
                {
                    "name": "stdout",
                    "output_type": "stream",
                    "text": [
                        "Stationary distribution:\n",
                        "[0.012 0.035 0.027 0.027 0.117 0.209 0.209 0.022 0.168 0.161 0.012]\n",
                        "\n",
                        "Is u* * P = u*? True\n"
                    ]
                }
            ],
            "source": [
                "import numpy as np\n",
                "from scipy import linalg as sp\n",
                "\n",
                "np.set_printoptions(precision=3)\n",
                "\n",
                "def stationary_dist(mc):\n",
                "    P = mc[1]\n",
                "    \n",
                "    eigenvalues, eigenvectors = sp.eig(P, left=True, right=False)\n",
                "    \n",
                "    index = 0\n",
                "    \n",
                "    for i,value in enumerate(eigenvalues):\n",
                "        if(abs(1-value)<1e-9):\n",
                "            index = i\n",
                "    \n",
                "    result = eigenvectors[:,index].real #parte real apenas\n",
                "    totalSum = sum(result)\n",
                "    result /= totalSum #normalize\n",
                "    \n",
                "    return result #parte real e normalizada\n",
                "\n",
                "u_star = stationary_dist(M)\n",
                "\n",
                "print('Stationary distribution:')\n",
                "print(u_star)\n",
                "\n",
                "u_prime = u_star.dot(M[1])\n",
                "\n",
                "\n",
                "print('\\nIs u* * P = u*?', np.all(np.isclose(u_prime, u_star)))"
            ]
        },
        {
            "cell_type": "markdown",
            "metadata": {},
            "source": [
                "Example of application of the function with the chain $M$ from Activity 1.\n",
                "\n",
                "```python\n",
                "u_star = stationary_dist(M)\n",
                "\n",
                "print('Stationary distribution:')\n",
                "print(u_star)\n",
                "\n",
                "u_prime = u_star.dot(M[1])\n",
                "\n",
                "print('\\nIs u* * P = u*?', np.all(np.isclose(u_prime, u_star)))\n",
                "```\n",
                "\n",
                "Output:\n",
                "```\n",
                "Stationary distribution:\n",
                "[0.012 0.035 0.027 0.027 0.117 0.209 0.209 0.022 0.168 0.161 0.012]\n",
                "\n",
                "Is u* * P = u*? True\n",
                "```"
            ]
        },
        {
            "cell_type": "markdown",
            "metadata": {},
            "source": [
                "To complement Activity 3, you will now empirically establish that the chain is ergodic, i.e., no matter where the bot starts, its visitation frequency will eventually converge to the stationary distribution.\n",
                "\n",
                "---\n",
                "\n",
                "#### Activity 4.\n",
                "\n",
                "Write a function `compute_dist` that receives, as inputs, \n",
                "\n",
                "* ... a Markov chain in the form of a tuple like the one returned by the function in Activity 1;\n",
                "* ... a row vector (a numpy nd array) corresponding to the initial distribution for the chain;\n",
                "* ... an integer $N$, corresponding to the number of steps that the bot is expected to take.\n",
                "\n",
                "Your function should return, as output, a row vector (a `numpy` array) containing the distribution after $N$ steps of the chain.\n",
                "\n",
                "---"
            ]
        },
        {
            "cell_type": "code",
            "execution_count": 4,
            "metadata": {},
            "outputs": [
                {
                    "name": "stdout",
                    "output_type": "stream",
                    "text": [
                        "\n",
                        "Is u * P^10 = u*? False\n",
                        "\n",
                        "Is u * P^100 = u*? True\n"
                    ]
                }
            ],
            "source": [
                "def compute_dist (M,u,n):\n",
                "    P = M[1]\n",
                "    for i in range(n):\n",
                "        u = np.dot(u,P)\n",
                "    return u\n",
                "\n",
                "M = load_chain('data/example.npy', 0.11)\n",
                "u_star = stationary_dist(M)\n",
                "\n",
                "# Number of states\n",
                "nS = len(M[0])\n",
                "\n",
                "# Initial, uniform distribution\n",
                "u = np.ones((1, nS)) / nS\n",
                "\n",
                "# Distrbution after 100 steps\n",
                "v = compute_dist(M, u, 10)\n",
                "print('\\nIs u * P^10 = u*?', np.all(np.isclose(v, u_star)))\n",
                "\n",
                "# Distrbution after 1000 steps\n",
                "v = compute_dist(M, u, 100)\n",
                "print('\\nIs u * P^100 = u*?', np.all(np.isclose(v, u_star)))"
            ]
        },
        {
            "cell_type": "markdown",
            "metadata": {},
            "source": [
                "Example of application of the function with the chain $M$ from Activity 1.\n",
                "\n",
                "```python\n",
                "# Number of states\n",
                "nS = len(M[0])\n",
                "\n",
                "# Initial, uniform distribution\n",
                "u = np.ones((1, nS)) / nS\n",
                "\n",
                "# Distrbution after 100 steps\n",
                "v = compute_dist(M, u, 10)\n",
                "print('\\nIs u * P^10 = u*?', np.all(np.isclose(v, u_star)))\n",
                "\n",
                "# Distrbution after 1000 steps\n",
                "v = compute_dist(M, u, 100)\n",
                "print('\\nIs u * P^100 = u*?', np.all(np.isclose(v, u_star)))\n",
                "```\n",
                "\n",
                "Output:\n",
                "```\n",
                "Is u * P^10 = u*? False\n",
                "\n",
                "Is u * P^100 = u*? True\n",
                "```"
            ]
        },
        {
            "cell_type": "markdown",
            "metadata": {},
            "source": [
                "Is the chain ergodic? Justify, based on the results above."
            ]
        },
        {
            "cell_type": "markdown",
            "metadata": {},
            "source": [
                "Yes, the chain is ergodic bacuase:\n",
                "-The chain is both aperiodic and irreducible due to the teleportation mechanism: every state can teleport to any other state (there is only 1 communicating class) including itself (every state has a period of 1).\n",
                "-The example above shows that starting from an initial distribution we eventually get to the stationary distribution by t=100 (or before)."
            ]
        },
        {
            "cell_type": "markdown",
            "metadata": {},
            "source": [
                "### 3. Simulation\n",
                "\n",
                "In this part of the lab, you will *simulate* the actual bot, and empirically compute the visitation frequency of each state."
            ]
        },
        {
            "cell_type": "markdown",
            "metadata": {},
            "source": [
                "---\n",
                "\n",
                "#### Activity 5\n",
                "\n",
                "Write down a function `simulate` that receives, as inputs, \n",
                "\n",
                "* ... a Markov chain in the form of a tuple like the one returned by the function in Activity 1;\n",
                "* ... a row vector (a numpy nd array) corresponding to the initial distribution for the chain;\n",
                "* ... an integer $N$, corresponding to the number of steps that the bot is expected to take.\n",
                "\n",
                "Your function should return, as output, a tuple containing a trajectory of $N$ steps obtained from the initial distribution provided. Each element in the tuple should be a string corresponding to a state index.\n",
                "\n",
                "---\n",
                "\n",
                "**Note:** You may find useful to import the numpy module `numpy.random`."
            ]
        },
        {
            "cell_type": "code",
            "execution_count": 5,
            "metadata": {},
            "outputs": [
                {
                    "name": "stdout",
                    "output_type": "stream",
                    "text": [
                        "('4', '6', '5', '6', '4', '5', '5', '6', '5', '6')\n"
                    ]
                }
            ],
            "source": [
                "import numpy.random as rand\n",
                "\n",
                "def simulate(M,u0,n):\n",
                "    numStates = len(M[0])\n",
                "    P = M[1]\n",
                "    traj = [None]*n  \n",
                "    state = np.random.choice(numStates,1, p=u0[0])[0]\n",
                "    \n",
                "    for i in range(n):\n",
                "        traj[i] = str(state)\n",
                "        nextState = np.random.choice(numStates,1, p=P[state])[0]\n",
                "        state = nextState\n",
                "    \n",
                "    return tuple(traj)\n",
                "\n",
                "# Number of states\n",
                "nS = len(M[0])\n",
                "\n",
                "# Initial, uniform distribution\n",
                "u = np.ones((1, nS)) / nS\n",
                "\n",
                "rand.seed(42)\n",
                "\n",
                "# Simulate short trajectory\n",
                "traj = simulate(M, u, 10)\n",
                "print(traj)\n",
                "\n",
                "# Simulate a long trajectory\n",
                "traj = simulate(M, u, 10000)"
            ]
        },
        {
            "cell_type": "markdown",
            "metadata": {},
            "source": [
                "Example of application of the function with the chain $M$ from Activity 1.\n",
                "\n",
                "```python\n",
                "# Number of states\n",
                "nS = len(M[0])\n",
                "\n",
                "# Initial, uniform distribution\n",
                "u = np.ones((1, nS)) / nS\n",
                "\n",
                "rnd.seed(42)\n",
                "\n",
                "# Simulate short trajectory\n",
                "traj = simulate(M, u, 10)\n",
                "print(traj)\n",
                "\n",
                "# Simulate a long trajectory\n",
                "traj = simulate(M, u, 10000)\n",
                "```\n",
                "\n",
                "Output:\n",
                "```\n",
                "('4', '6', '5', '6', '4', '5', '5', '6', '5', '6')\n",
                "```"
            ]
        },
        {
            "cell_type": "markdown",
            "metadata": {},
            "source": [
                "---\n",
                "\n",
                "#### Activity 6\n",
                "\n",
                "Draw a histogram of the $10,000$-step trajectory generated in the example of Activity #5 using the function `hist` from the module `matplotlib.pyplot`. Make sure that the histogram has one bin for each state. Compare the relative frequencies with the result of Activity #3.\n",
                "\n",
                "**Note**: Don't forget to load `matplotlib`. \n",
                "\n",
                "**Note 2**: Recall that the states in the trajectory from Activity #5 consist of strings, which should be converted to state indices to match the entries in the distribution computed in Activity #3.\n",
                "\n",
                "---"
            ]
        },
        {
            "cell_type": "code",
            "execution_count": 6,
            "metadata": {},
            "outputs": [
                {
                    "name": "stdout",
                    "output_type": "stream",
                    "text": [
                        "[ 0  1  2  3  4  5  6  7  8  9 10]\n"
                    ]
                },
                {
                    "data": {
                        "image/png": "[encoded data removed]",
                        "text/plain": [
                            "<Figure size 640x480 with 1 Axes>"
                        ]
                    },
                    "metadata": {},
                    "output_type": "display_data"
                }
            ],
            "source": [
                "import matplotlib.pyplot as plot\n",
                "\n",
                "def histogram(traj,uStar):\n",
                "    intTraj = tuple(map(int,traj))\n",
                "    \n",
                "    plot.scatter(np.arange(nS),uStar, color='red',zorder=2)\n",
                "    plot.hist(intTraj,align='left',rwidth=0.5,bins=np.arange(nS+1), density=True,zorder=1)\n",
                "    \n",
                "print(np.arange(nS))\n",
                "histogram(traj,u_star)\n"
            ]
        }
    ],
    "metadata": {
        "kernelspec": {
            "display_name": "Python 3.9.12 ('base')",
            "language": "python",
            "name": "python3"
        },
        "language_info": {
            "codemirror_mode": {
                "name": "ipython",
                "version": 3
            },
            "file_extension": ".py",
            "mimetype": "text/x-python",
            "name": "python",
            "nbconvert_exporter": "python",
            "pygments_lexer": "ipython3",
            "version": "3.9.13"
        },
        "vscode": {
            "interpreter": {
                "hash": "3ee64af1d2fd69624ebd95506223eca3ca40f9ac15a1d63f541e5dbde5b38c23"
            }
        }
    },
    "nbformat": 4,
    "nbformat_minor": 1
}
